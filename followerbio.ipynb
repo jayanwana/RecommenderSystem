{
 "cells": [
  {
   "cell_type": "markdown",
   "metadata": {},
   "source": [
    "# FOLLOWER RECOMMENDER"
   ]
  },
  {
   "cell_type": "markdown",
   "metadata": {},
   "source": [
    "IMPORT NECESSARY LIBRARIES"
   ]
  },
  {
   "cell_type": "code",
   "execution_count": 2,
   "metadata": {},
   "outputs": [],
   "source": [
    "import numpy as np\n",
    "import pandas as pd\n",
    "import os"
   ]
  },
  {
   "cell_type": "code",
   "execution_count": 21,
   "metadata": {},
   "outputs": [
    {
     "data": {
      "text/plain": [
       "Index(['id', 'name', 'username', 'email', 'image', 'provider', 'provider_id',\n",
       "       'password', 'remember_token', 'created_at', 'updated_at', 'short_bio'],\n",
       "      dtype='object')"
      ]
     },
     "execution_count": 21,
     "metadata": {},
     "output_type": "execute_result"
    }
   ],
   "source": [
    "user = pd.read_csv(\"data/users.csv\")\n",
    "user.columns"
   ]
  },
  {
   "cell_type": "code",
   "execution_count": 22,
   "metadata": {},
   "outputs": [
    {
     "data": {
      "text/html": [
       "<div>\n",
       "<style scoped>\n",
       "    .dataframe tbody tr th:only-of-type {\n",
       "        vertical-align: middle;\n",
       "    }\n",
       "\n",
       "    .dataframe tbody tr th {\n",
       "        vertical-align: top;\n",
       "    }\n",
       "\n",
       "    .dataframe thead th {\n",
       "        text-align: right;\n",
       "    }\n",
       "</style>\n",
       "<table border=\"1\" class=\"dataframe\">\n",
       "  <thead>\n",
       "    <tr style=\"text-align: right;\">\n",
       "      <th></th>\n",
       "      <th>id</th>\n",
       "      <th>name</th>\n",
       "      <th>username</th>\n",
       "      <th>email</th>\n",
       "      <th>short_bio</th>\n",
       "    </tr>\n",
       "  </thead>\n",
       "  <tbody>\n",
       "    <tr>\n",
       "      <td>0</td>\n",
       "      <td>1</td>\n",
       "      <td>Eniayomi Oluwaseyi</td>\n",
       "      <td>eniayomi</td>\n",
       "      <td>oluwaseyieniayomi@gmail.com</td>\n",
       "      <td>Software Developer | DevOPs Engineer</td>\n",
       "    </tr>\n",
       "    <tr>\n",
       "      <td>1</td>\n",
       "      <td>2</td>\n",
       "      <td>Elijah Okokon</td>\n",
       "      <td>DMatrix</td>\n",
       "      <td>okoelijah@gmail.com</td>\n",
       "      <td>Web Developer</td>\n",
       "    </tr>\n",
       "    <tr>\n",
       "      <td>2</td>\n",
       "      <td>3</td>\n",
       "      <td>Jeffrey Ogah</td>\n",
       "      <td>jeff.ogah</td>\n",
       "      <td>jeff.ogah@gmail.com</td>\n",
       "      <td>Front End Developer | React Developer | Mentor...</td>\n",
       "    </tr>\n",
       "    <tr>\n",
       "      <td>3</td>\n",
       "      <td>4</td>\n",
       "      <td>Oluwaseyi Oluwapelumi</td>\n",
       "      <td>nathan</td>\n",
       "      <td>nathanoluwaseyi@gmail.com</td>\n",
       "      <td>| Software Developer | DevOps Engineer | @linu...</td>\n",
       "    </tr>\n",
       "    <tr>\n",
       "      <td>4</td>\n",
       "      <td>5</td>\n",
       "      <td>PoRH</td>\n",
       "      <td>lamar</td>\n",
       "      <td>paulchibiukeigweze@gmail.com</td>\n",
       "      <td>I Am lamar and you don't think am real?</td>\n",
       "    </tr>\n",
       "    <tr>\n",
       "      <td>5</td>\n",
       "      <td>6</td>\n",
       "      <td>Seyi Onifade</td>\n",
       "      <td>xyluz</td>\n",
       "      <td>hngtechapps@gmail.com</td>\n",
       "      <td>My Open Diary</td>\n",
       "    </tr>\n",
       "    <tr>\n",
       "      <td>6</td>\n",
       "      <td>7</td>\n",
       "      <td>Mark Essien</td>\n",
       "      <td>markessien</td>\n",
       "      <td>markessien@gmail.com</td>\n",
       "      <td>An engineer</td>\n",
       "    </tr>\n",
       "    <tr>\n",
       "      <td>7</td>\n",
       "      <td>8</td>\n",
       "      <td>Alex Moses</td>\n",
       "      <td>ahlesswywk</td>\n",
       "      <td>ahlesswywk@gmail.com</td>\n",
       "      <td>Software Developer hotelsng, Ex. Frontend deve...</td>\n",
       "    </tr>\n",
       "    <tr>\n",
       "      <td>8</td>\n",
       "      <td>9</td>\n",
       "      <td>Edmund Ekott</td>\n",
       "      <td>26th_edmund</td>\n",
       "      <td>edmund.timfon@gmail.com</td>\n",
       "      <td>Front-end Engineer 💻 | FIFA advocate 🎮 |  Ninja 🥋</td>\n",
       "    </tr>\n",
       "    <tr>\n",
       "      <td>9</td>\n",
       "      <td>10</td>\n",
       "      <td>Stefan aGz</td>\n",
       "      <td>stefanpongrz</td>\n",
       "      <td>stefanpongrz@gmail.com</td>\n",
       "      <td>Here</td>\n",
       "    </tr>\n",
       "  </tbody>\n",
       "</table>\n",
       "</div>"
      ],
      "text/plain": [
       "   id                   name      username                         email  \\\n",
       "0   1     Eniayomi Oluwaseyi      eniayomi   oluwaseyieniayomi@gmail.com   \n",
       "1   2          Elijah Okokon       DMatrix           okoelijah@gmail.com   \n",
       "2   3           Jeffrey Ogah     jeff.ogah           jeff.ogah@gmail.com   \n",
       "3   4  Oluwaseyi Oluwapelumi        nathan     nathanoluwaseyi@gmail.com   \n",
       "4   5                   PoRH         lamar  paulchibiukeigweze@gmail.com   \n",
       "5   6           Seyi Onifade         xyluz         hngtechapps@gmail.com   \n",
       "6   7            Mark Essien    markessien          markessien@gmail.com   \n",
       "7   8             Alex Moses    ahlesswywk          ahlesswywk@gmail.com   \n",
       "8   9           Edmund Ekott   26th_edmund       edmund.timfon@gmail.com   \n",
       "9  10             Stefan aGz  stefanpongrz        stefanpongrz@gmail.com   \n",
       "\n",
       "                                           short_bio  \n",
       "0               Software Developer | DevOPs Engineer  \n",
       "1                                      Web Developer  \n",
       "2  Front End Developer | React Developer | Mentor...  \n",
       "3  | Software Developer | DevOps Engineer | @linu...  \n",
       "4            I Am lamar and you don't think am real?  \n",
       "5                                      My Open Diary  \n",
       "6                                        An engineer  \n",
       "7  Software Developer hotelsng, Ex. Frontend deve...  \n",
       "8  Front-end Engineer 💻 | FIFA advocate 🎮 |  Ninja 🥋  \n",
       "9                                               Here  "
      ]
     },
     "execution_count": 22,
     "metadata": {},
     "output_type": "execute_result"
    }
   ],
   "source": [
    "user.drop(labels=['image', 'provider', 'provider', 'provider_id', 'password', 'remember_token', 'created_at', 'updated_at'], axis=1, inplace=True )\n",
    "user.head(10)"
   ]
  },
  {
   "cell_type": "code",
   "execution_count": 74,
   "metadata": {},
   "outputs": [
    {
     "data": {
      "text/plain": [
       "(2293, 5)"
      ]
     },
     "execution_count": 74,
     "metadata": {},
     "output_type": "execute_result"
    }
   ],
   "source": [
    "user.shape"
   ]
  },
  {
   "cell_type": "code",
   "execution_count": 75,
   "metadata": {},
   "outputs": [
    {
     "data": {
      "text/plain": [
       "0                 Software Developer | DevOPs Engineer\n",
       "1                                        Web Developer\n",
       "2    Front End Developer | React Developer | Mentor...\n",
       "3    | Software Developer | DevOps Engineer | @linu...\n",
       "4              I Am lamar and you don't think am real?\n",
       "Name: short_bio, dtype: object"
      ]
     },
     "execution_count": 75,
     "metadata": {},
     "output_type": "execute_result"
    }
   ],
   "source": [
    "user['short_bio'].head(5)"
   ]
  },
  {
   "cell_type": "code",
   "execution_count": 76,
   "metadata": {},
   "outputs": [],
   "source": [
    "#Import TfIdfVectorizer from scikit-learn\n",
    "from sklearn.feature_extraction.text import TfidfVectorizer"
   ]
  },
  {
   "cell_type": "code",
   "execution_count": 77,
   "metadata": {},
   "outputs": [],
   "source": [
    "#Define a TF-IDF Vectorizer Object. Remove all english stop words such as 'the', 'a'\n",
    "tfidf = TfidfVectorizer(stop_words='english')"
   ]
  },
  {
   "cell_type": "code",
   "execution_count": 78,
   "metadata": {},
   "outputs": [],
   "source": [
    "#Replace NaN with an empty string\n",
    "user['short_bio'] = user['short_bio'].fillna('')"
   ]
  },
  {
   "cell_type": "code",
   "execution_count": 79,
   "metadata": {},
   "outputs": [],
   "source": [
    "#Construct the required TF-IDF matrix by fitting and transforming the data\n",
    "tfidf_matrix = tfidf.fit_transform(user['short_bio'])"
   ]
  },
  {
   "cell_type": "code",
   "execution_count": 80,
   "metadata": {},
   "outputs": [
    {
     "data": {
      "text/plain": [
       "(2293, 2242)"
      ]
     },
     "execution_count": 80,
     "metadata": {},
     "output_type": "execute_result"
    }
   ],
   "source": [
    "#Output the shape of tfidf_matrix\n",
    "# this produces the number of different words used by user in the short_bio\n",
    "tfidf_matrix.shape"
   ]
  },
  {
   "cell_type": "code",
   "execution_count": 81,
   "metadata": {},
   "outputs": [],
   "source": [
    "# Import linear_kernel\n",
    "from sklearn.metrics.pairwise import linear_kernel"
   ]
  },
  {
   "cell_type": "code",
   "execution_count": 82,
   "metadata": {},
   "outputs": [],
   "source": [
    "# Compute the cosine similarity matrix\n",
    "consine_sim = linear_kernel(tfidf_matrix, tfidf_matrix, True)"
   ]
  },
  {
   "cell_type": "code",
   "execution_count": 91,
   "metadata": {},
   "outputs": [],
   "source": [
    "#Construct a reverse map of indices and user name\n",
    "indices = pd.Series(user.index, index=user['id'])"
   ]
  },
  {
   "cell_type": "code",
   "execution_count": 221,
   "metadata": {},
   "outputs": [],
   "source": [
    "def create_new_db(x):\n",
    "    \"\"\"\n",
    "    this function takes the result from get_followers and transforms to a DB with other info\n",
    "    paramx: recommendation Series\n",
    "    \"\"\"\n",
    "    y = x.copy()\n",
    "    z = x.copy()\n",
    "    y.update(user['name'])\n",
    "    z.update(user['short_bio'])\n",
    "    xdf=pd.DataFrame(x)\n",
    "    ydf=pd.DataFrame(y)\n",
    "    zdf=pd.DataFrame(z)\n",
    "    ydf.rename(columns={'id':'Name'}, inplace=True)\n",
    "    xdf.rename(columns={'id':'User_Id'}, inplace=True)\n",
    "    zdf.rename(columns={'id':'short_bio'}, inplace=True)\n",
    "    frames = [xdf,ydf,zdf]\n",
    "    new_df = pd.concat(frames, axis=1)\n",
    "    new_df.set_index('User_Id', inplace=True)\n",
    "    return new_df"
   ]
  },
  {
   "cell_type": "code",
   "execution_count": 209,
   "metadata": {},
   "outputs": [],
   "source": [
    "# Function that takes in user name as input and outputs most similar users\n",
    "def get_followers(id, consine_sim=consine_sim):\n",
    "    # Get the index of the users that matches the user\n",
    "    idx = indices[id]\n",
    "    # Get the pairwsie similarity scores of all users with that user\n",
    "    sim_scores = list(enumerate(consine_sim[idx]))\n",
    "    # Sort the users based on the similarity scores\n",
    "    sim_scores = sorted(sim_scores, key=lambda x: x[1], reverse=True)\n",
    "    # Get the scores of the 10 most similar users\n",
    "    sim_scores = sim_scores[1:11]\n",
    "     # Get the user indices\n",
    "    follow_indices = [i[0] for i in sim_scores]\n",
    "      # Return the top 10 most similar user\n",
    "    follower_id = user['id'].iloc[follow_indices]\n",
    "    # Create a new data frame containing the user id and name \n",
    "    follower_rec = create_new_db(follower_id)\n",
    "    return follower_rec"
   ]
  },
  {
   "cell_type": "code",
   "execution_count": 227,
   "metadata": {},
   "outputs": [],
   "source": [
    "# Use this function to get details of the user with their user id\n",
    "def check_user(id):\n",
    "    name = user.loc[user['id'] == id, 'name'].item()\n",
    "    bio = user.loc[user['id'] == id, 'short_bio'].item()\n",
    "    return name, bio"
   ]
  },
  {
   "cell_type": "code",
   "execution_count": 230,
   "metadata": {},
   "outputs": [
    {
     "name": "stderr",
     "output_type": "stream",
     "text": [
      "c:\\users\\user\\appdata\\local\\programs\\python\\python37-32\\lib\\site-packages\\ipykernel_launcher.py:2: FutureWarning: `item` has been deprecated and will be removed in a future version\n",
      "  \n",
      "c:\\users\\user\\appdata\\local\\programs\\python\\python37-32\\lib\\site-packages\\ipykernel_launcher.py:3: FutureWarning: `item` has been deprecated and will be removed in a future version\n",
      "  This is separate from the ipykernel package so we can avoid doing imports until\n"
     ]
    },
    {
     "data": {
      "text/plain": [
       "('Aishat Adefemi',\n",
       " 'I am enthusiastic about learning something new as coding and hope to create apps which would provide solutions to the plethora of problems in our society.')"
      ]
     },
     "execution_count": 230,
     "metadata": {},
     "output_type": "execute_result"
    }
   ],
   "source": [
    "check_user(1178)"
   ]
  },
  {
   "cell_type": "code",
   "execution_count": 229,
   "metadata": {},
   "outputs": [
    {
     "name": "stderr",
     "output_type": "stream",
     "text": [
      "c:\\users\\user\\appdata\\local\\programs\\python\\python37-32\\lib\\site-packages\\ipykernel_launcher.py:2: FutureWarning: `item` has been deprecated and will be removed in a future version\n",
      "  \n",
      "c:\\users\\user\\appdata\\local\\programs\\python\\python37-32\\lib\\site-packages\\ipykernel_launcher.py:3: FutureWarning: `item` has been deprecated and will be removed in a future version\n",
      "  This is separate from the ipykernel package so we can avoid doing imports until\n"
     ]
    },
    {
     "data": {
      "text/html": [
       "<div>\n",
       "<style scoped>\n",
       "    .dataframe tbody tr th:only-of-type {\n",
       "        vertical-align: middle;\n",
       "    }\n",
       "\n",
       "    .dataframe tbody tr th {\n",
       "        vertical-align: top;\n",
       "    }\n",
       "\n",
       "    .dataframe thead th {\n",
       "        text-align: right;\n",
       "    }\n",
       "</style>\n",
       "<table border=\"1\" class=\"dataframe\">\n",
       "  <thead>\n",
       "    <tr style=\"text-align: right;\">\n",
       "      <th></th>\n",
       "      <th>Name</th>\n",
       "      <th>short_bio</th>\n",
       "    </tr>\n",
       "    <tr>\n",
       "      <th>User_Id</th>\n",
       "      <th></th>\n",
       "      <th></th>\n",
       "    </tr>\n",
       "  </thead>\n",
       "  <tbody>\n",
       "    <tr>\n",
       "      <td>1776</td>\n",
       "      <td>Egbo Bright</td>\n",
       "      <td>Learning to create</td>\n",
       "    </tr>\n",
       "    <tr>\n",
       "      <td>442</td>\n",
       "      <td>Mahmud Adekunle</td>\n",
       "      <td>Apps enthusiast.</td>\n",
       "    </tr>\n",
       "    <tr>\n",
       "      <td>1560</td>\n",
       "      <td>Isaac Asante Nyarko</td>\n",
       "      <td>create.</td>\n",
       "    </tr>\n",
       "    <tr>\n",
       "      <td>769</td>\n",
       "      <td>Ajayi Bamidele</td>\n",
       "      <td>Provide printing management solutions</td>\n",
       "    </tr>\n",
       "    <tr>\n",
       "      <td>1162</td>\n",
       "      <td>Ibe Shanny</td>\n",
       "      <td>Web developer/ learning coding</td>\n",
       "    </tr>\n",
       "    <tr>\n",
       "      <td>843</td>\n",
       "      <td>adesanmi adedayo</td>\n",
       "      <td>A tech enthusiastic</td>\n",
       "    </tr>\n",
       "    <tr>\n",
       "      <td>746</td>\n",
       "      <td>Bisola Adediran</td>\n",
       "      <td>I am Bisola, a graduate of Forestry and trying...</td>\n",
       "    </tr>\n",
       "    <tr>\n",
       "      <td>360</td>\n",
       "      <td>maimuna yusuf umar</td>\n",
       "      <td>Hi learning programming and technology,hope we...</td>\n",
       "    </tr>\n",
       "    <tr>\n",
       "      <td>1472</td>\n",
       "      <td>Uzor Chukwudi</td>\n",
       "      <td>Tech lover and enthusiastic</td>\n",
       "    </tr>\n",
       "    <tr>\n",
       "      <td>325</td>\n",
       "      <td>Uzo James</td>\n",
       "      <td>Hey, I am a web developer with interest in bui...</td>\n",
       "    </tr>\n",
       "  </tbody>\n",
       "</table>\n",
       "</div>"
      ],
      "text/plain": [
       "                        Name  \\\n",
       "User_Id                        \n",
       "1776             Egbo Bright   \n",
       "442          Mahmud Adekunle   \n",
       "1560     Isaac Asante Nyarko   \n",
       "769           Ajayi Bamidele   \n",
       "1162              Ibe Shanny   \n",
       "843         adesanmi adedayo   \n",
       "746          Bisola Adediran   \n",
       "360       maimuna yusuf umar   \n",
       "1472           Uzor Chukwudi   \n",
       "325                Uzo James   \n",
       "\n",
       "                                                 short_bio  \n",
       "User_Id                                                     \n",
       "1776                                    Learning to create  \n",
       "442                                       Apps enthusiast.  \n",
       "1560                                               create.  \n",
       "769                  Provide printing management solutions  \n",
       "1162                        Web developer/ learning coding  \n",
       "843                                    A tech enthusiastic  \n",
       "746      I am Bisola, a graduate of Forestry and trying...  \n",
       "360      Hi learning programming and technology,hope we...  \n",
       "1472                           Tech lover and enthusiastic  \n",
       "325      Hey, I am a web developer with interest in bui...  "
      ]
     },
     "execution_count": 229,
     "metadata": {},
     "output_type": "execute_result"
    }
   ],
   "source": [
    "# Run Get_followers with user id as input\n",
    "get_followers(1178)"
   ]
  },
  {
   "cell_type": "code",
   "execution_count": 228,
   "metadata": {
    "scrolled": true
   },
   "outputs": [
    {
     "name": "stderr",
     "output_type": "stream",
     "text": [
      "c:\\users\\user\\appdata\\local\\programs\\python\\python37-32\\lib\\site-packages\\ipykernel_launcher.py:2: FutureWarning: `item` has been deprecated and will be removed in a future version\n",
      "  \n",
      "c:\\users\\user\\appdata\\local\\programs\\python\\python37-32\\lib\\site-packages\\ipykernel_launcher.py:3: FutureWarning: `item` has been deprecated and will be removed in a future version\n",
      "  This is separate from the ipykernel package so we can avoid doing imports until\n"
     ]
    },
    {
     "data": {
      "text/plain": [
       "('Aishat Adefemi',\n",
       " 'I am enthusiastic about learning something new as coding and hope to create apps which would provide solutions to the plethora of problems in our society.')"
      ]
     },
     "execution_count": 228,
     "metadata": {},
     "output_type": "execute_result"
    }
   ],
   "source": []
  },
  {
   "cell_type": "code",
   "execution_count": 225,
   "metadata": {},
   "outputs": [
    {
     "name": "stderr",
     "output_type": "stream",
     "text": [
      "c:\\users\\user\\appdata\\local\\programs\\python\\python37-32\\lib\\site-packages\\ipykernel_launcher.py:1: FutureWarning: `item` has been deprecated and will be removed in a future version\n",
      "  \"\"\"Entry point for launching an IPython kernel.\n"
     ]
    },
    {
     "data": {
      "text/plain": [
       "'I am enthusiastic about learning something new as coding and hope to create apps which would provide solutions to the plethora of problems in our society.'"
      ]
     },
     "execution_count": 225,
     "metadata": {},
     "output_type": "execute_result"
    }
   ],
   "source": [
    "user.loc[user['id'] == 1178, 'short_bio'].item()\n"
   ]
  }
 ],
 "metadata": {
  "kernelspec": {
   "display_name": "Python 3",
   "language": "python",
   "name": "python3"
  },
  "language_info": {
   "codemirror_mode": {
    "name": "ipython",
    "version": 3
   },
   "file_extension": ".py",
   "mimetype": "text/x-python",
   "name": "python",
   "nbconvert_exporter": "python",
   "pygments_lexer": "ipython3",
   "version": "3.7.2"
  }
 },
 "nbformat": 4,
 "nbformat_minor": 2
}
